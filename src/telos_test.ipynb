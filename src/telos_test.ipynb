{
 "cells": [
  {
   "cell_type": "code",
   "execution_count": null,
   "metadata": {},
   "outputs": [],
   "source": [
    "from agent import TelosAgent\n",
    "from environment import TelosTaskEnv, make_env\n",
    "from task import TelosTask\n",
    "from time import sleep\n",
    "import pybullet as p\n",
    "\n",
    "from stable_baselines3.common.env_util import make_vec_env\n",
    "from stable_baselines3.common.vec_env import VecNormalize\n",
    "from stable_baselines3 import SAC, PPO"
   ]
  },
  {
   "cell_type": "code",
   "execution_count": null,
   "metadata": {},
   "outputs": [],
   "source": [
    "# telos_agent = TelosAgent(render_mode=\"rgb_array\",renderer=\"OpenGL\")\n",
    "# telos_task = TelosTask(agent=telos_agent)\n",
    "# telos_env = TelosTaskEnv(task=telos_task, agent=telos_agent)"
   ]
  },
  {
   "cell_type": "code",
   "execution_count": null,
   "metadata": {},
   "outputs": [],
   "source": [
    "telos_env.reset()"
   ]
  },
  {
   "cell_type": "code",
   "execution_count": null,
   "metadata": {},
   "outputs": [],
   "source": [
    "telos_env.step(telos_env.action_space.sample())"
   ]
  },
  {
   "cell_type": "markdown",
   "metadata": {},
   "source": [
    "---"
   ]
  },
  {
   "cell_type": "code",
   "execution_count": null,
   "metadata": {},
   "outputs": [],
   "source": [
    "telos_agent = TelosAgent(render_mode=\"rgb_array\",renderer=\"Tiny\")\n",
    "telos_task = TelosTask(agent=telos_agent)\n",
    "telos_env = TelosTaskEnv(task=telos_task, agent=telos_agent)"
   ]
  },
  {
   "cell_type": "code",
   "execution_count": null,
   "metadata": {},
   "outputs": [],
   "source": [
    "env = make_vec_env(make_env, n_envs=6, env_kwargs={\"task\": telos_task, \"agent\": telos_agent, \"render_mode\": \"rgb_array\"})\n",
    "env = VecNormalize(env, norm_obs=True, norm_reward=True, clip_obs=10.)"
   ]
  },
  {
   "cell_type": "code",
   "execution_count": null,
   "metadata": {},
   "outputs": [],
   "source": [
    "policy_sac =  dict(net_arch=dict(pi=[512, 512,512], qf=[512, 512,512]))"
   ]
  },
  {
   "cell_type": "code",
   "execution_count": null,
   "metadata": {},
   "outputs": [],
   "source": [
    "model_sac = SAC(\n",
    "    policy=\"MultiInputPolicy\",\n",
    "    env=env,\n",
    "    policy_kwargs=policy_sac,\n",
    "    learning_rate= 3.5e-4,\n",
    "    buffer_size= int(1e6),\n",
    "    batch_size= 2048,\n",
    "    ent_coef= \"auto\",\n",
    "    gamma= 0.99,\n",
    "    tau= 0.005,\n",
    "    train_freq= 1,\n",
    "    gradient_steps= 1,\n",
    "    action_noise= None,\n",
    "    optimize_memory_usage= False,\n",
    "    target_update_interval= 1,\n",
    "    verbose= 1,\n",
    "    tensorboard_log=\"./tensorboard/sacTelos/\",\n",
    ")"
   ]
  },
  {
   "cell_type": "code",
   "execution_count": null,
   "metadata": {},
   "outputs": [],
   "source": [
    "model_sac.learn(500_000)"
   ]
  },
  {
   "cell_type": "code",
   "execution_count": null,
   "metadata": {},
   "outputs": [],
   "source": []
  },
  {
   "cell_type": "code",
   "execution_count": null,
   "metadata": {},
   "outputs": [],
   "source": [
    "for _ in range(1000):\n",
    "    # print(telos_task.compute_reward(telos_agent._get_obs()[0:3], telos_task.goal))\n",
    "    telos_agent.step_simulation()\n",
    "    sleep(1.0/60.0)"
   ]
  },
  {
   "cell_type": "code",
   "execution_count": null,
   "metadata": {},
   "outputs": [],
   "source": []
  },
  {
   "cell_type": "code",
   "execution_count": null,
   "metadata": {},
   "outputs": [],
   "source": []
  }
 ],
 "metadata": {
  "kernelspec": {
   "display_name": "venv",
   "language": "python",
   "name": "python3"
  },
  "language_info": {
   "codemirror_mode": {
    "name": "ipython",
    "version": 3
   },
   "file_extension": ".py",
   "mimetype": "text/x-python",
   "name": "python",
   "nbconvert_exporter": "python",
   "pygments_lexer": "ipython3",
   "version": "3.10.12"
  }
 },
 "nbformat": 4,
 "nbformat_minor": 2
}
